{
 "cells": [
  {
   "cell_type": "code",
   "execution_count": 3,
   "metadata": {},
   "outputs": [],
   "source": [
    "%load_ext autoreload\n",
    "%autoreload 2"
   ]
  },
  {
   "cell_type": "code",
   "execution_count": 46,
   "metadata": {},
   "outputs": [],
   "source": [
    "import pandas as pd\n",
    "import numpy as np\n",
    "import seaborn as sns\n",
    "from matplotlib import pyplot as plt\n",
    "from utils.data_utils import load_dataset"
   ]
  },
  {
   "cell_type": "code",
   "execution_count": 13,
   "metadata": {},
   "outputs": [],
   "source": [
    "df = load_dataset('datasets/BD SITE SCC _ projeto UPE_unificada.xlsx')"
   ]
  },
  {
   "cell_type": "code",
   "execution_count": 112,
   "metadata": {},
   "outputs": [],
   "source": [
    "from preprocessing import extractRelevancyFeatures, extractViabilityFeatures"
   ]
  },
  {
   "cell_type": "code",
   "execution_count": 122,
   "metadata": {},
   "outputs": [],
   "source": [
    "Xr = extractRelevancyFeatures(df)"
   ]
  },
  {
   "cell_type": "code",
   "execution_count": 123,
   "metadata": {},
   "outputs": [
    {
     "name": "stderr",
     "output_type": "stream",
     "text": [
      "/home/aldo/anaconda3/lib/python3.7/site-packages/sklearn/preprocessing/data.py:323: DataConversionWarning:\n",
      "\n",
      "Data with input dtype int64 were all converted to float64 by MinMaxScaler.\n",
      "\n"
     ]
    }
   ],
   "source": [
    "Xv = extractViabilityFeatures(df)"
   ]
  },
  {
   "cell_type": "code",
   "execution_count": 125,
   "metadata": {},
   "outputs": [],
   "source": [
    "from plotly import graph_objs as go"
   ]
  },
  {
   "cell_type": "code",
   "execution_count": null,
   "metadata": {},
   "outputs": [],
   "source": [
    "go.Figure()"
   ]
  },
  {
   "cell_type": "code",
   "execution_count": 121,
   "metadata": {},
   "outputs": [
    {
     "data": {
      "text/plain": [
       "<matplotlib.image.AxesImage at 0x7f7b4df2a390>"
      ]
     },
     "execution_count": 121,
     "metadata": {},
     "output_type": "execute_result"
    },
    {
     "data": {
      "image/png": "[encoded data removed]",
      "text/plain": [
       "<Figure size 288x288 with 1 Axes>"
      ]
     },
     "metadata": {
      "needs_background": "light"
     },
     "output_type": "display_data"
    }
   ],
   "source": [
    "plt.matshow(pd.DataFrame(Xr).corr())"
   ]
  },
  {
   "cell_type": "code",
   "execution_count": 47,
   "metadata": {},
   "outputs": [
    {
     "data": {
      "text/plain": [
       "Index(['ANO', 'MÊS', 'TERRITÓRIO', 'AIS', 'NATUREZA A ANALISAR',\n",
       "       'ENVIADO PARA RELINT / PRONT. FT VIDAS', 'NOME', 'VULGO', 'SEXO',\n",
       "       'NOME DO PAI', 'NOME DA MÃE', 'DATA DE NASCIMENTO', 'IDADE', 'N. RG',\n",
       "       'ÓRGÃO EXPEDIDOR', 'ESTADO EXPEDIDOR', 'NATURALIDADE (Cidade)',\n",
       "       'NATURALIDADE (UF)', 'CPF', 'ENDEREÇO DO ALVO', 'FOTOS',\n",
       "       'RG NO SISTEMA', 'PRONTUÁRIO IITB', 'COMARCA',\n",
       "       'PROCESSO EM SEGREDO DE JUSTIÇA',\n",
       "       'DATA DA ÚLTIMA MOVIMENTAÇÃO DO PROCESSO', 'TIPO DE PRISÃO DECRETADA',\n",
       "       'DATA EXPEDIÇÃO DO MANDADO', 'TIPIFICAÇÃO ', 'PADRONIZAÇÃO',\n",
       "       'SITUAÇÃO DO MANDADO', 'CÓPIA DO MANDADO', 'VÍTIMA', 'BAIRRO DO FATO',\n",
       "       'DATA DO FATO', 'Nº BOE - INFOPOL', 'TOTAL DE VÍTIMAS-CONSUMADO',\n",
       "       'TOTAL DE VÍTIMAS-TENTADO', 'CIVIL', 'CARCERÁRIO', 'CRIMINAL',\n",
       "       'CAPTURAS', 'CNJ', 'TJPE', 'INFOPOL', 'INFOSEG', 'SEC. SAÚDE', 'GACE',\n",
       "       'TOTAL BASES', 'ALVO PRIORITÁRIO', 'SITE SDS', 'BI CVLI',\n",
       "       'BI TENTATIVA-CVLI', 'BI NARCOTRÁFICO', 'BI CVP', 'BI OUTROS',\n",
       "       'SUBTOTAL BI', 'MP CVLI', 'MP TENTATIVA-CVLI', 'MP NARCOTRÁFICO',\n",
       "       'MP CVP', 'MP OUTROS', 'SUBTOTAL MP', 'PROCESSO CVLI',\n",
       "       'PROCESSO TENTATIVA-CVLI', 'PROCESSO NARCOTRÁFICO', 'PROCESSO CVP',\n",
       "       'PROCESSO OUTROS', 'SUBTOTAL PROCESSOS',\n",
       "       'PERICULOSIDADE (BI - MP - PROCESSO)', 'STATUS CARCERÁRIO',\n",
       "       'DATA DA PRISÃO ou REGISTRO NO CARCERÁRIO',\n",
       "       'DATA DA ÚLTIMA MOVIMENTAÇÃO NO CARCERÁRIO', 'UNIDADE PRISIONAL ATUAL',\n",
       "       'PRONTUÁRIO SERES', 'DATA DE EVASÃO DO SISTEMA CARCERÁRIO',\n",
       "       'DATA DA EXPEDIÇÃO DO ALVARÁ', 'MOTIVO DA SOLTURA',\n",
       "       'OUTROS PROCESSOS NO TJPE', 'QUANTIDADE DE PROCESSOS NO TJPE',\n",
       "       'DATA ÚLTIMA ATUALIZAÇÃO', 'OBSERVAÇÕES',\n",
       "       'Mandados inseridos (CVLI) para análise (marcador) '],\n",
       "      dtype='object')"
      ]
     },
     "execution_count": 47,
     "metadata": {},
     "output_type": "execute_result"
    }
   ],
   "source": [
    "df.columns"
   ]
  },
  {
   "cell_type": "code",
   "execution_count": 57,
   "metadata": {},
   "outputs": [
    {
     "data": {
      "text/plain": [
       "array(['01', '02', '03', '04', '05', '06', '07', '08', '09', '10', '11',\n",
       "       '12', '13', '14', '15', '16', '17', '18', '19', '20', '21', '22',\n",
       "       '23', '24', '25', '26', 'EVADIDOS'], dtype=object)"
      ]
     },
     "execution_count": 57,
     "metadata": {},
     "output_type": "execute_result"
    }
   ],
   "source": [
    "np.sort(df.AIS.unique())"
   ]
  },
  {
   "cell_type": "code",
   "execution_count": 65,
   "metadata": {},
   "outputs": [
    {
     "data": {
      "text/plain": [
       "<matplotlib.image.AxesImage at 0x7f7b52adf208>"
      ]
     },
     "execution_count": 65,
     "metadata": {},
     "output_type": "execute_result"
    },
    {
     "data": {
      "image/png": "[encoded data removed]",
      "text/plain": [
       "<Figure size 288x288 with 1 Axes>"
      ]
     },
     "metadata": {
      "needs_background": "light"
     },
     "output_type": "display_data"
    }
   ],
   "source": [
    "plt.matshow(df.corr())"
   ]
  }
 ],
 "metadata": {
  "kernelspec": {
   "display_name": "Python 3",
   "language": "python",
   "name": "python3"
  },
  "language_info": {
   "codemirror_mode": {
    "name": "ipython",
    "version": 3
   },
   "file_extension": ".py",
   "mimetype": "text/x-python",
   "name": "python",
   "nbconvert_exporter": "python",
   "pygments_lexer": "ipython3",
   "version": "3.7.3"
  }
 },
 "nbformat": 4,
 "nbformat_minor": 2
}
