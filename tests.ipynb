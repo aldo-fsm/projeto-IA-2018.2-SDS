{
 "cells": [
  {
   "cell_type": "code",
   "execution_count": 4,
   "metadata": {},
   "outputs": [],
   "source": [
    "import pandas as pd\n",
    "import numpy as np\n",
    "# import holoviews as hv\n",
    "import constants\n",
    "from utils import data_utils\n",
    "from fitness import FitnessSum\n",
    "from ga import GeneticAlgorithm, Crossover, Mutation, Selection\n",
    "# hv.extension('bokeh')"
   ]
  },
  {
   "cell_type": "code",
   "execution_count": 5,
   "metadata": {},
   "outputs": [],
   "source": [
    "pd.set_option('display.max_columns', None)"
   ]
  },
  {
   "cell_type": "code",
   "execution_count": 6,
   "metadata": {},
   "outputs": [],
   "source": [
    "def plotPopulation(data):\n",
    "    x = []\n",
    "    y = []\n",
    "    for i in range(data.shape[0]):\n",
    "        for j in range(data.shape[1]):\n",
    "            x.append(i)\n",
    "            y.append(data.iloc[i,j])\n",
    "    return hv.Scatter({'x' : x, 'y' : y})"
   ]
  },
  {
   "cell_type": "code",
   "execution_count": 385,
   "metadata": {},
   "outputs": [],
   "source": [
    "df = data_utils.load_dataset('datasets/BD SITE SCC _ projeto UPE_unificada.xlsx')"
   ]
  },
  {
   "cell_type": "code",
   "execution_count": 14,
   "metadata": {},
   "outputs": [],
   "source": [
    "pop_size = 50\n",
    "ranking_size = 10\n",
    "gene_set = list(range(df.shape[0]))\n",
    "selection = Selection(0.5)\n",
    "crossover = Crossover(kind=1)\n",
    "mutation = Mutation(0.2)\n",
    "optimizer = GeneticAlgorithm(gene_set, selection, crossover, mutation)\n",
    "optimizer.initializePopulation(ranking_size, pop_size)\n",
    "fitness_function = FitnessSum(1,1,1,constants.RELEVANCY_WEIGHTS, constants.VIABILITY_WEIGHTS, df)\n",
    "def fitness_ind(X):\n",
    "    F = fitness_function\n",
    "    data = F.dataset.iloc[X]\n",
    "    if len(data) == 0:\n",
    "        return -np.inf\n",
    "    relevancy = data.apply(F.R, axis=1).values\n",
    "    viability = data.apply(F.V, axis=1).values\n",
    "    return F.Cr*relevancy + F.Cv*viability"
   ]
  },
  {
   "cell_type": "code",
   "execution_count": 15,
   "metadata": {},
   "outputs": [
    {
     "data": {
      "application/javascript": [
       "\n",
       "// Ugly hack - see HoloViews #2574 for more information\n",
       "if (!(document.getElementById('1714')) && !(document.getElementById('_anim_imgNone'))) {\n",
       "  console.log(\"Creating DOM nodes dynamically for assumed nbconvert export. To generate clean HTML output set HV_DOC_HTML as an environment variable.\")\n",
       "  var htmlObject = document.createElement('div');\n",
       "  htmlObject.innerHTML = `<div id='1714' style='display: table; margin: 0 auto;'>\n",
       "    <div id=\"fig_1714\">\n",
       "      \n",
       "\n",
       "\n",
       "\n",
       "\n",
       "\n",
       "  <div class=\"bk-root\" id=\"a1e152b2-1180-4758-9aba-9540da1cd41e\"></div>\n",
       "\n",
       "    </div>\n",
       "    </div>`;\n",
       "  var scriptTags = document.getElementsByTagName('script');\n",
       "  var parentTag = scriptTags[scriptTags.length-1].parentNode;\n",
       "  if (parentTag.attributes.length && (parentTag.attributes[0].name == 'data-shell-mode')) {\n",
       "    alert('Displaying PyViz objects in JupyterLab requires the jupyterlab_pyviz extension to be installed, install it with:\\n\\n\\tjupyter labextension install @pyviz/jupyterlab_pyviz');\n",
       "  } else {\n",
       "    parentTag.append(htmlObject)\n",
       "  }\n",
       "}\n",
       "(function(root) {\n",
       "  function embed_document(root) {\n",
       "    \n",
       "  var docs_json = {\"09b5f851-651f-44d6-8142-079fa68b2b0b\":{\"roots\":{\"references\":[{\"attributes\":{\"below\":[{\"id\":\"1722\",\"type\":\"LinearAxis\"}],\"left\":[{\"id\":\"1727\",\"type\":\"LinearAxis\"}],\"min_border_bottom\":10,\"min_border_left\":10,\"min_border_right\":10,\"min_border_top\":10,\"plot_height\":510,\"plot_width\":510,\"renderers\":[{\"id\":\"1722\",\"type\":\"LinearAxis\"},{\"id\":\"1726\",\"type\":\"Grid\"},{\"id\":\"1727\",\"type\":\"LinearAxis\"},{\"id\":\"1731\",\"type\":\"Grid\"},{\"id\":\"1740\",\"type\":\"BoxAnnotation\"},{\"id\":\"1751\",\"type\":\"GlyphRenderer\"}],\"title\":{\"id\":\"1713\",\"type\":\"Title\"},\"toolbar\":{\"id\":\"1737\",\"type\":\"Toolbar\"},\"x_range\":{\"id\":\"1711\",\"type\":\"Range1d\"},\"x_scale\":{\"id\":\"1718\",\"type\":\"LinearScale\"},\"y_range\":{\"id\":\"1712\",\"type\":\"Range1d\"},\"y_scale\":{\"id\":\"1720\",\"type\":\"LinearScale\"}},\"id\":\"1714\",\"subtype\":\"Figure\",\"type\":\"Plot\"},{\"attributes\":{},\"id\":\"1753\",\"type\":\"BasicTickFormatter\"},{\"attributes\":{\"active_drag\":\"auto\",\"active_inspect\":\"auto\",\"active_multi\":null,\"active_scroll\":\"auto\",\"active_tap\":\"auto\",\"tools\":[{\"id\":\"1732\",\"type\":\"SaveTool\"},{\"id\":\"1733\",\"type\":\"PanTool\"},{\"id\":\"1734\",\"type\":\"WheelZoomTool\"},{\"id\":\"1735\",\"type\":\"BoxZoomTool\"},{\"id\":\"1736\",\"type\":\"ResetTool\"}]},\"id\":\"1737\",\"type\":\"Toolbar\"},{\"attributes\":{},\"id\":\"1732\",\"type\":\"SaveTool\"},{\"attributes\":{\"source\":{\"id\":\"1745\",\"type\":\"ColumnDataSource\"}},\"id\":\"1752\",\"type\":\"CDSView\"},{\"attributes\":{},\"id\":\"1733\",\"type\":\"PanTool\"},{\"attributes\":{},\"id\":\"1763\",\"type\":\"UnionRenderers\"},{\"attributes\":{},\"id\":\"1734\",\"type\":\"WheelZoomTool\"},{\"attributes\":{\"callback\":null,\"data\":{\"x\":{\"__ndarray__\":\"\",\"dtype\":\"float64\",\"shape\":[0]},\"y\":{\"__ndarray__\":\"\",\"dtype\":\"float64\",\"shape\":[0]}},\"selected\":{\"id\":\"1746\",\"type\":\"Selection\"},\"selection_policy\":{\"id\":\"1763\",\"type\":\"UnionRenderers\"}},\"id\":\"1745\",\"type\":\"ColumnDataSource\"},{\"attributes\":{\"overlay\":{\"id\":\"1740\",\"type\":\"BoxAnnotation\"}},\"id\":\"1735\",\"type\":\"BoxZoomTool\"},{\"attributes\":{\"callback\":null,\"tags\":[[[\"x\",\"x\",null]]]},\"id\":\"1711\",\"type\":\"Range1d\"},{\"attributes\":{},\"id\":\"1736\",\"type\":\"ResetTool\"},{\"attributes\":{\"callback\":null,\"tags\":[[[\"y\",\"y\",null]]]},\"id\":\"1712\",\"type\":\"Range1d\"},{\"attributes\":{\"fill_color\":{\"value\":\"#30a2da\"},\"line_color\":{\"value\":\"#30a2da\"},\"size\":{\"units\":\"screen\",\"value\":2.449489742783178},\"x\":{\"field\":\"x\"},\"y\":{\"field\":\"y\"}},\"id\":\"1748\",\"type\":\"Scatter\"},{\"attributes\":{\"bottom_units\":\"screen\",\"fill_alpha\":{\"value\":0.5},\"fill_color\":{\"value\":\"lightgrey\"},\"left_units\":\"screen\",\"level\":\"overlay\",\"line_alpha\":{\"value\":1.0},\"line_color\":{\"value\":\"black\"},\"line_dash\":[4,4],\"line_width\":{\"value\":2},\"plot\":null,\"render_mode\":\"css\",\"right_units\":\"screen\",\"top_units\":\"screen\"},\"id\":\"1740\",\"type\":\"BoxAnnotation\"},{\"attributes\":{},\"id\":\"1746\",\"type\":\"Selection\"},{\"attributes\":{\"fill_alpha\":{\"value\":0.1},\"fill_color\":{\"value\":\"#30a2da\"},\"line_alpha\":{\"value\":0.1},\"line_color\":{\"value\":\"#30a2da\"},\"size\":{\"units\":\"screen\",\"value\":2.449489742783178},\"x\":{\"field\":\"x\"},\"y\":{\"field\":\"y\"}},\"id\":\"1749\",\"type\":\"Scatter\"},{\"attributes\":{},\"id\":\"1718\",\"type\":\"LinearScale\"},{\"attributes\":{\"fill_alpha\":{\"value\":0.2},\"fill_color\":{\"value\":\"#30a2da\"},\"line_alpha\":{\"value\":0.2},\"line_color\":{\"value\":\"#30a2da\"},\"size\":{\"units\":\"screen\",\"value\":2.449489742783178},\"x\":{\"field\":\"x\"},\"y\":{\"field\":\"y\"}},\"id\":\"1750\",\"type\":\"Scatter\"},{\"attributes\":{},\"id\":\"1720\",\"type\":\"LinearScale\"},{\"attributes\":{\"data_source\":{\"id\":\"1745\",\"type\":\"ColumnDataSource\"},\"glyph\":{\"id\":\"1748\",\"type\":\"Scatter\"},\"hover_glyph\":null,\"muted_glyph\":{\"id\":\"1750\",\"type\":\"Scatter\"},\"nonselection_glyph\":{\"id\":\"1749\",\"type\":\"Scatter\"},\"selection_glyph\":null,\"view\":{\"id\":\"1752\",\"type\":\"CDSView\"}},\"id\":\"1751\",\"type\":\"GlyphRenderer\"},{\"attributes\":{\"axis_label\":\"x\",\"bounds\":\"auto\",\"formatter\":{\"id\":\"1753\",\"type\":\"BasicTickFormatter\"},\"major_label_orientation\":\"horizontal\",\"plot\":{\"id\":\"1714\",\"subtype\":\"Figure\",\"type\":\"Plot\"},\"ticker\":{\"id\":\"1723\",\"type\":\"BasicTicker\"}},\"id\":\"1722\",\"type\":\"LinearAxis\"},{\"attributes\":{},\"id\":\"1723\",\"type\":\"BasicTicker\"},{\"attributes\":{},\"id\":\"1755\",\"type\":\"BasicTickFormatter\"},{\"attributes\":{\"grid_line_color\":{\"value\":null},\"plot\":{\"id\":\"1714\",\"subtype\":\"Figure\",\"type\":\"Plot\"},\"ticker\":{\"id\":\"1723\",\"type\":\"BasicTicker\"}},\"id\":\"1726\",\"type\":\"Grid\"},{\"attributes\":{\"axis_label\":\"y\",\"bounds\":\"auto\",\"formatter\":{\"id\":\"1755\",\"type\":\"BasicTickFormatter\"},\"major_label_orientation\":\"horizontal\",\"plot\":{\"id\":\"1714\",\"subtype\":\"Figure\",\"type\":\"Plot\"},\"ticker\":{\"id\":\"1728\",\"type\":\"BasicTicker\"}},\"id\":\"1727\",\"type\":\"LinearAxis\"},{\"attributes\":{\"plot\":null,\"text\":\"\",\"text_color\":{\"value\":\"black\"},\"text_font_size\":{\"value\":\"12pt\"}},\"id\":\"1713\",\"type\":\"Title\"},{\"attributes\":{},\"id\":\"1728\",\"type\":\"BasicTicker\"},{\"attributes\":{\"dimension\":1,\"grid_line_color\":{\"value\":null},\"plot\":{\"id\":\"1714\",\"subtype\":\"Figure\",\"type\":\"Plot\"},\"ticker\":{\"id\":\"1728\",\"type\":\"BasicTicker\"}},\"id\":\"1731\",\"type\":\"Grid\"}],\"root_ids\":[\"1714\"]},\"title\":\"Bokeh Application\",\"version\":\"1.0.0\"}};\n",
       "  var render_items = [{\"docid\":\"09b5f851-651f-44d6-8142-079fa68b2b0b\",\"roots\":{\"1714\":\"a1e152b2-1180-4758-9aba-9540da1cd41e\"}}];\n",
       "  root.Bokeh.embed.embed_items_notebook(docs_json, render_items);\n",
       "\n",
       "  }\n",
       "  if (root.Bokeh !== undefined) {\n",
       "    embed_document(root);\n",
       "  } else {\n",
       "    var attempts = 0;\n",
       "    var timer = setInterval(function(root) {\n",
       "      if (root.Bokeh !== undefined) {\n",
       "        embed_document(root);\n",
       "        clearInterval(timer);\n",
       "      }\n",
       "      attempts++;\n",
       "      if (attempts > 100) {\n",
       "        console.log(\"Bokeh: ERROR: Unable to run BokehJS code because BokehJS library is missing\");\n",
       "        clearInterval(timer);\n",
       "      }\n",
       "    }, 10, root)\n",
       "  }\n",
       "})(window);\n",
       "\n",
       "    function msg_handler(msg) {\n",
       "      var metadata = msg.metadata;\n",
       "      var buffers = msg.buffers;\n",
       "      var msg = msg.content.data;\n",
       "      if ((metadata.msg_type == \"Ready\")) {\n",
       "        if (metadata.content) {\n",
       "          console.log(\"Python callback returned following output:\", metadata.content);\n",
       "        }\n",
       "      } else if (metadata.msg_type == \"Error\") {\n",
       "        console.log(\"Python failed with the following traceback:\", metadata.traceback)\n",
       "      } else {\n",
       "        \n",
       "var plot_id = \"1714\";\n",
       "if (plot_id in window.PyViz.plot_index) {\n",
       "  var plot = window.PyViz.plot_index[plot_id];\n",
       "} else {\n",
       "  var plot = Bokeh.index[plot_id];\n",
       "}\n",
       "\n",
       "if (plot_id in window.PyViz.receivers) {\n",
       "  var receiver = window.PyViz.receivers[plot_id];\n",
       "} else if (Bokeh.protocol === undefined) {\n",
       "  return;\n",
       "} else {\n",
       "  var receiver = new Bokeh.protocol.Receiver();\n",
       "  window.PyViz.receivers[plot_id] = receiver;\n",
       "}\n",
       "\n",
       "if ((buffers != undefined) && (buffers.length > 0)) {\n",
       "  receiver.consume(buffers[0].buffer)\n",
       "} else {\n",
       "  receiver.consume(msg)\n",
       "}\n",
       "\n",
       "const comm_msg = receiver.message;\n",
       "if ((comm_msg != null) && (Object.keys(comm_msg.content).length > 0)) {\n",
       "  plot.model.document.apply_json_patch(comm_msg.content, comm_msg.buffers)\n",
       "}\n",
       "\n",
       "      }\n",
       "    }\n",
       "    if ((window.PyViz == undefined) || (!window.PyViz.comm_manager)) {\n",
       "      console.log(\"Could not find comm manager\")\n",
       "    } else {\n",
       "      window.PyViz.comm_manager.register_target('1714', '6be43e9fbceb40758ed78c294349c4e9', msg_handler);\n",
       "    }\n",
       "    "
      ],
      "application/vnd.holoviews_exec.v0+json": "",
      "text/html": [
       "<div id='1714' style='display: table; margin: 0 auto;'>\n",
       "    <div id=\"fig_1714\">\n",
       "      \n",
       "\n",
       "\n",
       "\n",
       "\n",
       "\n",
       "  <div class=\"bk-root\" id=\"a1e152b2-1180-4758-9aba-9540da1cd41e\"></div>\n",
       "\n",
       "    </div>\n",
       "    </div>"
      ],
      "text/plain": [
       ":DynamicMap   []\n",
       "   :Scatter   [x]   (y)"
      ]
     },
     "execution_count": 15,
     "metadata": {
      "application/vnd.holoviews_exec.v0+json": {
       "id": "1714"
      }
     },
     "output_type": "execute_result"
    }
   ],
   "source": [
    "%%output size=170\n",
    "buffer = hv.streams.Buffer(pd.DataFrame(columns=range(pop_size)))\n",
    "hv.DynamicMap(plotPopulation, streams=[buffer])"
   ]
  },
  {
   "cell_type": "code",
   "execution_count": 16,
   "metadata": {},
   "outputs": [],
   "source": [
    "for i in range(100):\n",
    "    optimizer.step(fitness_function)\n",
    "    buffer.send(pd.DataFrame([[fitness_function(x) for x in optimizer.population]]))"
   ]
  },
  {
   "cell_type": "code",
   "execution_count": 12,
   "metadata": {},
   "outputs": [],
   "source": [
    "from fitness import FuncaoRelevancia\n",
    "from constants import RELEVANCY_WEIGHTS"
   ]
  },
  {
   "cell_type": "code",
   "execution_count": 13,
   "metadata": {},
   "outputs": [],
   "source": [
    "R = FuncaoRelevancia(RELEVANCY_WEIGHTS)"
   ]
  },
  {
   "cell_type": "code",
   "execution_count": 24,
   "metadata": {},
   "outputs": [],
   "source": [
    "def aaa(row):\n",
    "    try:\n",
    "        return R(row)\n",
    "    except Exception as e:\n",
    "        print(e)\n",
    "        print(row)\n",
    "        return 0"
   ]
  },
  {
   "cell_type": "code",
   "execution_count": 40,
   "metadata": {},
   "outputs": [],
   "source": [
    "result = pd.DataFrame()"
   ]
  },
  {
   "cell_type": "code",
   "execution_count": 85,
   "metadata": {},
   "outputs": [
    {
     "data": {
      "text/plain": [
       "1.164831440853416"
      ]
     },
     "execution_count": 85,
     "metadata": {},
     "output_type": "execute_result"
    }
   ],
   "source": [
    "result.Relevancia.mean()"
   ]
  },
  {
   "cell_type": "code",
   "execution_count": null,
   "metadata": {},
   "outputs": [],
   "source": [
    "\n",
    "def rank(dataset, V, R, G, som_attrs, rank_length, pop_size=30, generations_to_run=10):\n",
    "    processedData = preprocessGA(dataset, R, V)\n",
    "    print('rank size', rank_length)\n",
    "    print(dataset.shape)\n",
    "    ranking_progress = 0\n",
    "    table_len = dataset.shape[0]\n",
    "    gene_set = list(range(table_len))\n",
    "    chr_size = rank_length\n",
    "\n",
    "    selection = Selection(0.5)\n",
    "    crossover = Crossover(kind=1)\n",
    "    mutation = Mutation(0.5)\n",
    "    optimizer = GeneticAlgorithm(gene_set, selection, crossover, mutation)\n",
    "    optimizer.initializePopulation(chr_size, pop_size)\n",
    "\n",
    "    fitness_function = FitnessSum(G, processedData)\n",
    "\n",
    "    for i in tqdm(range(generations_to_run)):\n",
    "        # print(i)\n",
    "        optimizer.step(fitness_function)\n",
    "        ranking_progress = i/generations_to_run\n",
    "        # print(ranking_progress)\n",
    "    # ranking_progress = 1\n",
    "    # print(ranking_progress)\n",
    "\n",
    "    population = optimizer.population\n",
    "    fitnesses = [fitness_function(chr) for chr in population]\n",
    "    print(fitnesses)\n",
    "    best_index = np.argmax(fitnesses)\n",
    "    best_chr = population[best_index]\n",
    "    print(best_chr)\n",
    "    ranking = dataset.iloc[best_chr]\n",
    "    ranking['individual_fitness'] = processedData.individual_fitness.iloc[best_chr]\n",
    "    print('sorting...')\n",
    "    return ranking.sort_values('individual_fitness', ascending=False)\n",
    "\n"
   ]
  },
  {
   "cell_type": "code",
   "execution_count": 83,
   "metadata": {},
   "outputs": [
    {
     "data": {
      "text/html": [
       "<div>\n",
       "<style scoped>\n",
       "    .dataframe tbody tr th:only-of-type {\n",
       "        vertical-align: middle;\n",
       "    }\n",
       "\n",
       "    .dataframe tbody tr th {\n",
       "        vertical-align: top;\n",
       "    }\n",
       "\n",
       "    .dataframe thead th {\n",
       "        text-align: right;\n",
       "    }\n",
       "</style>\n",
       "<table border=\"1\" class=\"dataframe\">\n",
       "  <thead>\n",
       "    <tr style=\"text-align: right;\">\n",
       "      <th></th>\n",
       "      <th>0</th>\n",
       "      <th>bagulho</th>\n",
       "    </tr>\n",
       "  </thead>\n",
       "  <tbody>\n",
       "    <tr>\n",
       "      <th>3</th>\n",
       "      <td>A</td>\n",
       "      <td>3</td>\n",
       "    </tr>\n",
       "    <tr>\n",
       "      <th>1</th>\n",
       "      <td>B</td>\n",
       "      <td>1</td>\n",
       "    </tr>\n",
       "    <tr>\n",
       "      <th>2</th>\n",
       "      <td>C</td>\n",
       "      <td>2</td>\n",
       "    </tr>\n",
       "  </tbody>\n",
       "</table>\n",
       "</div>"
      ],
      "text/plain": [
       "   0  bagulho\n",
       "3  A        3\n",
       "1  B        1\n",
       "2  C        2"
      ]
     },
     "execution_count": 83,
     "metadata": {},
     "output_type": "execute_result"
    }
   ],
   "source": [
    "aaa = pd.DataFrame([['A'],['B'],['C']], index=[3,1,2])\n",
    "aaa['bagulho'] = [3,1,2]\n",
    "aaa"
   ]
  },
  {
   "cell_type": "code",
   "execution_count": 1,
   "metadata": {},
   "outputs": [],
   "source": [
    "from clustering.som import run_som"
   ]
  },
  {
   "cell_type": "code",
   "execution_count": 2,
   "metadata": {},
   "outputs": [
    {
     "name": "stdout",
     "output_type": "stream",
     "text": [
      "Training map...\n",
      "Warning: data was not float32. A 32-bit copy was made\n",
      "Map trained!\n",
      "Map image created at program's directory!\n",
      "Classification file succesfully created at program's directory!\n"
     ]
    },
    {
     "data": {
      "image/png": "[encoded data removed]",
      "text/plain": [
       "<Figure size 576x576 with 1 Axes>"
      ]
     },
     "metadata": {
      "needs_background": "light"
     },
     "output_type": "display_data"
    }
   ],
   "source": [
    "coord = run_som('datasets/colunas-normalizadas.csv', 10, 10)"
   ]
  },
  {
   "cell_type": "code",
   "execution_count": 6,
   "metadata": {},
   "outputs": [],
   "source": [
    "import pandas as pd\n",
    "df = pd.read_excel('datasets/BD SITE SCC _ projeto UPE_unificada.xlsx')"
   ]
  },
  {
   "cell_type": "code",
   "execution_count": 7,
   "metadata": {},
   "outputs": [
    {
     "data": {
      "text/plain": [
       "(29660, 83)"
      ]
     },
     "execution_count": 7,
     "metadata": {},
     "output_type": "execute_result"
    }
   ],
   "source": [
    "df.shape"
   ]
  },
  {
   "cell_type": "code",
   "execution_count": 11,
   "metadata": {},
   "outputs": [],
   "source": [
    "from clustering.som import select_columns\n",
    "df2 = select_columns('datasets/colunas-normalizadas.csv', 'all')"
   ]
  },
  {
   "cell_type": "code",
   "execution_count": 12,
   "metadata": {},
   "outputs": [
    {
     "data": {
      "text/plain": [
       "(42, 34)"
      ]
     },
     "execution_count": 12,
     "metadata": {},
     "output_type": "execute_result"
    }
   ],
   "source": [
    "df2.shape"
   ]
  },
  {
   "cell_type": "code",
   "execution_count": 53,
   "metadata": {},
   "outputs": [
    {
     "data": {
      "text/plain": [
       "[]"
      ]
     },
     "execution_count": 53,
     "metadata": {},
     "output_type": "execute_result"
    }
   ],
   "source": [
    "[col for col in columns if col not in df]"
   ]
  },
  {
   "cell_type": "code",
   "execution_count": 55,
   "metadata": {},
   "outputs": [],
   "source": [
    "from sklearn.preprocessing import LabelEncoder, OneHotEncoder"
   ]
  },
  {
   "cell_type": "code",
   "execution_count": 65,
   "metadata": {},
   "outputs": [],
   "source": [
    "encdrAIS = OneHotEncoder(handle_unknown='ignore')"
   ]
  },
  {
   "cell_type": "code",
   "execution_count": 79,
   "metadata": {},
   "outputs": [],
   "source": [
    "df = data_utils.load_dataset('datasets/BD SITE SCC _ projeto UPE_unificada.xlsx')"
   ]
  },
  {
   "cell_type": "code",
   "execution_count": 80,
   "metadata": {},
   "outputs": [],
   "source": [
    "data = df.copy()"
   ]
  },
  {
   "cell_type": "code",
   "execution_count": 71,
   "metadata": {},
   "outputs": [
    {
     "data": {
      "text/plain": [
       "False"
      ]
     },
     "execution_count": 71,
     "metadata": {},
     "output_type": "execute_result"
    }
   ],
   "source": [
    "data is df"
   ]
  },
  {
   "cell_type": "code",
   "execution_count": 73,
   "metadata": {},
   "outputs": [
    {
     "data": {
      "text/plain": [
       "<2911x27 sparse matrix of type '<class 'numpy.float64'>'\n",
       "\twith 2911 stored elements in Compressed Sparse Row format>"
      ]
     },
     "execution_count": 73,
     "metadata": {},
     "output_type": "execute_result"
    }
   ],
   "source": [
    "encdrAIS.fit_transform(df[['AIS']])"
   ]
  },
  {
   "cell_type": "code",
   "execution_count": 81,
   "metadata": {},
   "outputs": [],
   "source": [
    "data['AIS'] = 2"
   ]
  },
  {
   "cell_type": "code",
   "execution_count": 93,
   "metadata": {},
   "outputs": [
    {
     "data": {
      "text/plain": [
       "array([[0., 0., 0., ..., 0., 0., 0.],\n",
       "       [0., 0., 0., ..., 0., 0., 1.],\n",
       "       [0., 0., 0., ..., 0., 0., 1.],\n",
       "       ...,\n",
       "       [0., 0., 0., ..., 0., 0., 0.],\n",
       "       [0., 0., 0., ..., 0., 0., 0.],\n",
       "       [0., 0., 0., ..., 0., 0., 1.]])"
      ]
     },
     "execution_count": 93,
     "metadata": {},
     "output_type": "execute_result"
    }
   ],
   "source": [
    "encdrAIS.fit_transform(df[['AIS']]).toarray()"
   ]
  },
  {
   "cell_type": "code",
   "execution_count": 94,
   "metadata": {},
   "outputs": [],
   "source": [
    "from sklearn.compose import ColumnTransformer"
   ]
  },
  {
   "cell_type": "code",
   "execution_count": 95,
   "metadata": {},
   "outputs": [],
   "source": [
    "t = ColumnTransformer([\n",
    "    ('cat', encdrAIS, ['AIS'])\n",
    "])"
   ]
  },
  {
   "cell_type": "code",
   "execution_count": 103,
   "metadata": {},
   "outputs": [],
   "source": [
    "from sklearn.preprocessing import KBinsDiscretizer"
   ]
  },
  {
   "cell_type": "code",
   "execution_count": 107,
   "metadata": {},
   "outputs": [],
   "source": [
    "discretizer = KBinsDiscretizer(n_bins=10)"
   ]
  },
  {
   "cell_type": "code",
   "execution_count": 110,
   "metadata": {},
   "outputs": [],
   "source": [
    "from datetime import datetime"
   ]
  },
  {
   "cell_type": "code",
   "execution_count": 162,
   "metadata": {},
   "outputs": [
    {
     "data": {
      "text/plain": [
       "'2015-10-28 00:00:00'"
      ]
     },
     "execution_count": 162,
     "metadata": {},
     "output_type": "execute_result"
    }
   ],
   "source": [
    "datetime.strftime(datetime(2015, 10, 28, 0, 0, 0), '%Y-%m-%d %H:%M:%S')"
   ]
  },
  {
   "cell_type": "code",
   "execution_count": 138,
   "metadata": {},
   "outputs": [
    {
     "ename": "ValueError",
     "evalue": "time data '12/2015' does not match format 'MM/yyyy'",
     "output_type": "error",
     "traceback": [
      "\u001b[0;31m---------------------------------------------------------------------------\u001b[0m",
      "\u001b[0;31mValueError\u001b[0m                                Traceback (most recent call last)",
      "\u001b[0;32m<ipython-input-138-3b0abfc8353f>\u001b[0m in \u001b[0;36m<module>\u001b[0;34m\u001b[0m\n\u001b[0;32m----> 1\u001b[0;31m \u001b[0mdatetime\u001b[0m\u001b[0;34m.\u001b[0m\u001b[0mstrptime\u001b[0m\u001b[0;34m(\u001b[0m\u001b[0;34m'12/2015'\u001b[0m\u001b[0;34m,\u001b[0m \u001b[0;34m'MM/yyyy'\u001b[0m\u001b[0;34m)\u001b[0m\u001b[0;34m\u001b[0m\u001b[0;34m\u001b[0m\u001b[0m\n\u001b[0m",
      "\u001b[0;32m~/anaconda3/lib/python3.7/_strptime.py\u001b[0m in \u001b[0;36m_strptime_datetime\u001b[0;34m(cls, data_string, format)\u001b[0m\n\u001b[1;32m    575\u001b[0m     \"\"\"Return a class cls instance based on the input string and the\n\u001b[1;32m    576\u001b[0m     format string.\"\"\"\n\u001b[0;32m--> 577\u001b[0;31m     \u001b[0mtt\u001b[0m\u001b[0;34m,\u001b[0m \u001b[0mfraction\u001b[0m\u001b[0;34m,\u001b[0m \u001b[0mgmtoff_fraction\u001b[0m \u001b[0;34m=\u001b[0m \u001b[0m_strptime\u001b[0m\u001b[0;34m(\u001b[0m\u001b[0mdata_string\u001b[0m\u001b[0;34m,\u001b[0m \u001b[0mformat\u001b[0m\u001b[0;34m)\u001b[0m\u001b[0;34m\u001b[0m\u001b[0;34m\u001b[0m\u001b[0m\n\u001b[0m\u001b[1;32m    578\u001b[0m     \u001b[0mtzname\u001b[0m\u001b[0;34m,\u001b[0m \u001b[0mgmtoff\u001b[0m \u001b[0;34m=\u001b[0m \u001b[0mtt\u001b[0m\u001b[0;34m[\u001b[0m\u001b[0;34m-\u001b[0m\u001b[0;36m2\u001b[0m\u001b[0;34m:\u001b[0m\u001b[0;34m]\u001b[0m\u001b[0;34m\u001b[0m\u001b[0;34m\u001b[0m\u001b[0m\n\u001b[1;32m    579\u001b[0m     \u001b[0margs\u001b[0m \u001b[0;34m=\u001b[0m \u001b[0mtt\u001b[0m\u001b[0;34m[\u001b[0m\u001b[0;34m:\u001b[0m\u001b[0;36m6\u001b[0m\u001b[0;34m]\u001b[0m \u001b[0;34m+\u001b[0m \u001b[0;34m(\u001b[0m\u001b[0mfraction\u001b[0m\u001b[0;34m,\u001b[0m\u001b[0;34m)\u001b[0m\u001b[0;34m\u001b[0m\u001b[0;34m\u001b[0m\u001b[0m\n",
      "\u001b[0;32m~/anaconda3/lib/python3.7/_strptime.py\u001b[0m in \u001b[0;36m_strptime\u001b[0;34m(data_string, format)\u001b[0m\n\u001b[1;32m    357\u001b[0m     \u001b[0;32mif\u001b[0m \u001b[0;32mnot\u001b[0m \u001b[0mfound\u001b[0m\u001b[0;34m:\u001b[0m\u001b[0;34m\u001b[0m\u001b[0;34m\u001b[0m\u001b[0m\n\u001b[1;32m    358\u001b[0m         raise ValueError(\"time data %r does not match format %r\" %\n\u001b[0;32m--> 359\u001b[0;31m                          (data_string, format))\n\u001b[0m\u001b[1;32m    360\u001b[0m     \u001b[0;32mif\u001b[0m \u001b[0mlen\u001b[0m\u001b[0;34m(\u001b[0m\u001b[0mdata_string\u001b[0m\u001b[0;34m)\u001b[0m \u001b[0;34m!=\u001b[0m \u001b[0mfound\u001b[0m\u001b[0;34m.\u001b[0m\u001b[0mend\u001b[0m\u001b[0;34m(\u001b[0m\u001b[0;34m)\u001b[0m\u001b[0;34m:\u001b[0m\u001b[0;34m\u001b[0m\u001b[0;34m\u001b[0m\u001b[0m\n\u001b[1;32m    361\u001b[0m         raise ValueError(\"unconverted data remains: %s\" %\n",
      "\u001b[0;31mValueError\u001b[0m: time data '12/2015' does not match format 'MM/yyyy'"
     ]
    }
   ],
   "source": [
    "datetime.strptime('12/2015', 'MM/yyyy')"
   ]
  },
  {
   "cell_type": "code",
   "execution_count": 164,
   "metadata": {},
   "outputs": [
    {
     "data": {
      "text/plain": [
       "datetime.datetime(2015, 10, 28, 0, 0)"
      ]
     },
     "execution_count": 164,
     "metadata": {},
     "output_type": "execute_result"
    }
   ],
   "source": [
    "datetime.strptime('2015-10-28 00:00:00', '%Y-%m-%d %H:%M:%S')"
   ]
  },
  {
   "cell_type": "code",
   "execution_count": 168,
   "metadata": {},
   "outputs": [],
   "source": [
    "import pandas as pd\n",
    "import numpy as np"
   ]
  },
  {
   "cell_type": "code",
   "execution_count": 229,
   "metadata": {},
   "outputs": [
    {
     "data": {
      "text/plain": [
       "-62104052424.0"
      ]
     },
     "execution_count": 229,
     "metadata": {},
     "output_type": "execute_result"
    }
   ],
   "source": [
    "datetime(2,1,1).timestamp()"
   ]
  },
  {
   "cell_type": "code",
   "execution_count": 248,
   "metadata": {},
   "outputs": [],
   "source": [
    "def handleDate(date_string):\n",
    "    try:\n",
    "        date = datetime.strptime(str(date_string), '%Y-%m-%d %H:%M:%S')\n",
    "        return date.timestamp()\n",
    "    except:\n",
    "        return 0\n",
    "aaa = df[date_features].iloc[96:111].applymap(handleDate)\n",
    "kbd = KBinsDiscretizer(n_bins=100, encode='ordinal')\n",
    "kbd.fit_transform(aaa)"
   ]
  },
  {
   "cell_type": "code",
   "execution_count": 254,
   "metadata": {},
   "outputs": [],
   "source": [
    "df = data_utils.load_dataset('datasets/BD SITE SCC _ projeto UPE_unificada.xlsx')"
   ]
  },
  {
   "cell_type": "code",
   "execution_count": 265,
   "metadata": {},
   "outputs": [],
   "source": [
    "columns = [\n",
    "    'AIS',\n",
    "    'IDADE',\n",
    "    'BI CVLI',\n",
    "    'BI CVP',\n",
    "    'QUANTIDADE DE PROCESSOS NO TJPE',\n",
    "    'PRONTUÁRIO SERES',\n",
    "    'TOTAL DE VÍTIMAS-CONSUMADO',\n",
    "    'STATUS CARCERÁRIO',\n",
    "    'BI TENTATIVA-CVLI',\n",
    "    'BI OUTROS',\n",
    "    'BI NARCOTRÁFICO',\n",
    "    'DATA DA PRISÃO ou REGISTRO NO CARCERÁRIO',\n",
    "    'UNIDADE PRISIONAL ATUAL'\n",
    "]\n",
    "\n",
    "numeric_features = [\n",
    "    'IDADE',\n",
    "    'BI CVLI',\n",
    "    'BI CVP',\n",
    "    'QUANTIDADE DE PROCESSOS NO TJPE',\n",
    "    'TOTAL DE VÍTIMAS-CONSUMADO',\n",
    "    'BI TENTATIVA-CVLI',\n",
    "    'BI OUTROS',\n",
    "    'BI NARCOTRÁFICO'\n",
    "]\n",
    "\n",
    "categorical_features = [\n",
    "    'AIS',\n",
    "    'DATA DA PRISÃO ou REGISTRO NO CARCERÁRIO',\n",
    "    'PRONTUÁRIO SERES',\n",
    "    'STATUS CARCERÁRIO',\n",
    "    'UNIDADE PRISIONAL ATUAL'\n",
    "]\n"
   ]
  },
  {
   "cell_type": "code",
   "execution_count": 409,
   "metadata": {},
   "outputs": [],
   "source": [
    "from sklearn.compose import ColumnTransformer\n",
    "from sklearn.pipeline import Pipeline\n",
    "from sklearn.impute import SimpleImputer\n",
    "from sklearn.preprocessing import MinMaxScaler, OneHotEncoder\n",
    "from sklearn.linear_model import LogisticRegression\n",
    "from sklearn.model_selection import train_test_split, GridSearchCV\n",
    "\n",
    "numeric_transformer = Pipeline(steps=[\n",
    "    ('imputer', SimpleImputer(strategy='median')),\n",
    "    ('scaler', MinMaxScaler())])\n",
    "\n",
    "categorical_transformer = Pipeline(steps=[\n",
    "    ('imputer', SimpleImputer(strategy='constant', fill_value='missing')),\n",
    "    ('onehot', OneHotEncoder(handle_unknown='ignore'))])\n",
    "\n",
    "preprocessor = ColumnTransformer(\n",
    "    transformers=[\n",
    "        ('num', numeric_transformer, numeric_features),\n",
    "        ('cat', categorical_transformer, categorical_features)])\n",
    "\n",
    "def handleFloat(number):\n",
    "    try:\n",
    "        return float(number)\n",
    "    except:\n",
    "        return np.NaN\n",
    "data = pd.DataFrame()\n",
    "data[numeric_features] = df[numeric_features].applymap(handleFloat)\n",
    "data[categorical_features] = df[categorical_features].astype(str)\n",
    "result = preprocessor.fit_transform(data).toarray()"
   ]
  },
  {
   "cell_type": "code",
   "execution_count": 416,
   "metadata": {},
   "outputs": [],
   "source": [
    "from preprocessing import preprocessSOM"
   ]
  },
  {
   "cell_type": "code",
   "execution_count": 431,
   "metadata": {},
   "outputs": [],
   "source": [
    "data = preprocessSOM(df, ['AIS', 'IDADE'])"
   ]
  },
  {
   "cell_type": "code",
   "execution_count": 432,
   "metadata": {},
   "outputs": [],
   "source": [
    "from clustering.som import run_som"
   ]
  },
  {
   "cell_type": "code",
   "execution_count": 441,
   "metadata": {},
   "outputs": [
    {
     "name": "stdout",
     "output_type": "stream",
     "text": [
      "Training map...\n",
      "Warning: data was not float32. A 32-bit copy was made\n",
      "Map trained!\n",
      "Map image created at program's directory!\n",
      "Classification file succesfully created at program's directory!\n"
     ]
    },
    {
     "data": {
      "image/png": "[encoded data removed]",
      "text/plain": [
       "<Figure size 576x576 with 1 Axes>"
      ]
     },
     "metadata": {
      "needs_background": "light"
     },
     "output_type": "display_data"
    }
   ],
   "source": [
    "aaa = run_som(data, 10, 10)"
   ]
  },
  {
   "cell_type": "code",
   "execution_count": 446,
   "metadata": {},
   "outputs": [],
   "source": [
    "import os"
   ]
  },
  {
   "cell_type": "code",
   "execution_count": 467,
   "metadata": {},
   "outputs": [
    {
     "data": {
      "text/plain": [
       "'iVBORw0KGg'"
      ]
     },
     "execution_count": 467,
     "metadata": {},
     "output_type": "execute_result"
    }
   ],
   "source": [
    "str(img_str)[2:-1][:10]"
   ]
  },
  {
   "cell_type": "code",
   "execution_count": 442,
   "metadata": {},
   "outputs": [],
   "source": [
    "som = aaa[1]"
   ]
  },
  {
   "cell_type": "code",
   "execution_count": 444,
   "metadata": {},
   "outputs": [
    {
     "data": {
      "text/plain": [
       "array([[2, 2, 2, 2, 2, 2, 2, 2, 2, 7],\n",
       "       [2, 2, 2, 2, 2, 0, 0, 2, 7, 7],\n",
       "       [2, 2, 2, 2, 5, 0, 0, 0, 7, 7],\n",
       "       [2, 2, 2, 5, 5, 5, 0, 0, 0, 7],\n",
       "       [2, 2, 4, 5, 5, 5, 3, 0, 0, 0],\n",
       "       [2, 4, 4, 4, 3, 3, 3, 0, 0, 0],\n",
       "       [2, 4, 4, 4, 3, 3, 3, 1, 0, 1],\n",
       "       [6, 6, 6, 6, 1, 1, 1, 1, 1, 1],\n",
       "       [2, 6, 6, 6, 1, 1, 1, 1, 1, 1],\n",
       "       [2, 2, 2, 1, 1, 1, 1, 1, 1, 1]])"
      ]
     },
     "execution_count": 444,
     "metadata": {},
     "output_type": "execute_result"
    }
   ],
   "source": [
    "som.clusters"
   ]
  },
  {
   "cell_type": "code",
   "execution_count": 443,
   "metadata": {},
   "outputs": [
    {
     "data": {
      "text/plain": [
       "array([[3, 3],\n",
       "       [5, 9],\n",
       "       [9, 8],\n",
       "       ...,\n",
       "       [6, 0],\n",
       "       [6, 0],\n",
       "       [9, 8]], dtype=int32)"
      ]
     },
     "execution_count": 443,
     "metadata": {},
     "output_type": "execute_result"
    }
   ],
   "source": [
    "som.bmus"
   ]
  },
  {
   "cell_type": "code",
   "execution_count": 440,
   "metadata": {},
   "outputs": [],
   "source": [
    "import somoclu\n",
    "\n",
    "def run_som(data, nrows, ncolumns, maptype=\"planar\", gridtype=\"hexagonal\", inicialization=\"pca\"):\n",
    "  \n",
    "  labels = range(data.shape[0])\n",
    "\n",
    "  n_rows, n_columns = nrows, ncolumns\n",
    "\n",
    "  som = somoclu.Somoclu(n_columns, n_rows, maptype=maptype, gridtype=gridtype,\n",
    "                        compactsupport=True, initialization=inicialization)\n",
    "     \n",
    "  \"\"\"\n",
    "  SOMOCLU: Classe para treino e visualização do SOM.\n",
    "\n",
    "  \"\"\"\n",
    "\n",
    "  print(\"Training map...\")\n",
    "  som.train(data)\n",
    "  print(\"Map trained!\")\n",
    "\n",
    "  \"\"\"\n",
    "  Treina o mapa usando os dados atuais no objeto Somoclu.\n",
    "\n",
    "  \"\"\"\n",
    "\n",
    "  som.cluster()\n",
    "  \n",
    "  \"\"\" Classifica os neurônios, preenchendo a variável som.clusters, também seleciona\n",
    "      as BMUs(neuônios que são exibidos no mapa) para cada entrada.\n",
    "  \"\"\"  \n",
    "                        \n",
    "  som.view_umatrix(bestmatches=True, labels=labels, filename='./mapa.png')\n",
    "  print(\"Map image created at program's directory!\")\n",
    "  \"\"\"\n",
    "    Plota a U-Matrix do mapa treinado.\n",
    "  \"\"\"\n",
    "\n",
    "  np.savetxt(\"./clusters.csv\", som.clusters, delimiter=\",\")\n",
    "  \"\"\" som.bmus possui as coordenadas das BMUs, que são as \n",
    "      células que conseguimos ver no mapa.\n",
    "      \n",
    "      som.clusters(arquivo cluster.csv) é o resultado do método som.cluster() e \n",
    "      possui a classificação de cada neurônio do mapa(ao total: (n_row * n_columns) \n",
    "      neurônios).\n",
    "      \n",
    "      Como a localização dos neurônios após o treinamento é fixa no mapa, através \n",
    "      das coordenadas das BMUs em som.bmus, é possível extrair as suas respectivas \n",
    "      classificações em som.clusters apenas em função de suas coordenadas.\n",
    "      \"\"\"\n",
    "\n",
    "  clusters = pd.read_csv('./clusters.csv')\n",
    "  id_classes = np.empty((len(data),2), dtype=int)\n",
    "  id_class = pd.DataFrame()\n",
    "  \"\"\" id_classes: array utilizado para armazenar as classes resultantes da cluesterização,\n",
    "      será usado para salvar o arquivo classes.csv no formato:\n",
    "          ID CLASSE \n",
    "          ..   ..\n",
    "          ..   ..\n",
    "          ..   ..\n",
    "          ..   ..\n",
    "  \"\"\"\n",
    "  i=-1\n",
    "  for linha, coluna in som.bmus:\n",
    "      i=i+1\n",
    "      id_classes[i][0] = labels[i]                      #id\n",
    "      id_classes[i][1] = som.clusters[linha][coluna]    #classe\n",
    "\n",
    "  output = pd.DataFrame(id_classes, columns=['ID', 'Classe'])\n",
    "  output.to_csv('./classes.csv', sep=',', index=False)\n",
    "  print(\"Classification file succesfully created at program's directory!\")\n",
    "\n",
    "  f= open(\"./bmus.txt\",\"w+\")\n",
    "  \"\"\"escreve as coordenadas de cada bmu para arquivo \"bmus.txt\"\"\"\n",
    "  coordinates = []\n",
    "  i=1\n",
    "  j=0\n",
    "  for x,y in som.bmus:\n",
    "      print((\"ID %d: (%d, %d)\\n\" % (i, x, y)), file=f)\n",
    "      coordinates.append({'Id': i, 'x':x, 'y':y})\n",
    "      i=i+1\n",
    "\n",
    "        \n",
    "  return coordinates, som"
   ]
  },
  {
   "cell_type": "code",
   "execution_count": 435,
   "metadata": {},
   "outputs": [
    {
     "data": {
      "text/html": [
       "<div>\n",
       "<style scoped>\n",
       "    .dataframe tbody tr th:only-of-type {\n",
       "        vertical-align: middle;\n",
       "    }\n",
       "\n",
       "    .dataframe tbody tr th {\n",
       "        vertical-align: top;\n",
       "    }\n",
       "\n",
       "    .dataframe thead th {\n",
       "        text-align: right;\n",
       "    }\n",
       "</style>\n",
       "<table border=\"1\" class=\"dataframe\">\n",
       "  <thead>\n",
       "    <tr style=\"text-align: right;\">\n",
       "      <th></th>\n",
       "      <th>Id</th>\n",
       "      <th>x</th>\n",
       "      <th>y</th>\n",
       "    </tr>\n",
       "  </thead>\n",
       "  <tbody>\n",
       "    <tr>\n",
       "      <th>0</th>\n",
       "      <td>1</td>\n",
       "      <td>3</td>\n",
       "      <td>3</td>\n",
       "    </tr>\n",
       "    <tr>\n",
       "      <th>1</th>\n",
       "      <td>2</td>\n",
       "      <td>5</td>\n",
       "      <td>9</td>\n",
       "    </tr>\n",
       "    <tr>\n",
       "      <th>2</th>\n",
       "      <td>3</td>\n",
       "      <td>9</td>\n",
       "      <td>8</td>\n",
       "    </tr>\n",
       "    <tr>\n",
       "      <th>3</th>\n",
       "      <td>4</td>\n",
       "      <td>2</td>\n",
       "      <td>3</td>\n",
       "    </tr>\n",
       "    <tr>\n",
       "      <th>4</th>\n",
       "      <td>5</td>\n",
       "      <td>2</td>\n",
       "      <td>0</td>\n",
       "    </tr>\n",
       "    <tr>\n",
       "      <th>5</th>\n",
       "      <td>6</td>\n",
       "      <td>2</td>\n",
       "      <td>7</td>\n",
       "    </tr>\n",
       "    <tr>\n",
       "      <th>6</th>\n",
       "      <td>7</td>\n",
       "      <td>0</td>\n",
       "      <td>9</td>\n",
       "    </tr>\n",
       "    <tr>\n",
       "      <th>7</th>\n",
       "      <td>8</td>\n",
       "      <td>0</td>\n",
       "      <td>9</td>\n",
       "    </tr>\n",
       "    <tr>\n",
       "      <th>8</th>\n",
       "      <td>9</td>\n",
       "      <td>2</td>\n",
       "      <td>5</td>\n",
       "    </tr>\n",
       "    <tr>\n",
       "      <th>9</th>\n",
       "      <td>10</td>\n",
       "      <td>6</td>\n",
       "      <td>0</td>\n",
       "    </tr>\n",
       "    <tr>\n",
       "      <th>10</th>\n",
       "      <td>11</td>\n",
       "      <td>2</td>\n",
       "      <td>4</td>\n",
       "    </tr>\n",
       "    <tr>\n",
       "      <th>11</th>\n",
       "      <td>12</td>\n",
       "      <td>0</td>\n",
       "      <td>5</td>\n",
       "    </tr>\n",
       "    <tr>\n",
       "      <th>12</th>\n",
       "      <td>13</td>\n",
       "      <td>3</td>\n",
       "      <td>3</td>\n",
       "    </tr>\n",
       "    <tr>\n",
       "      <th>13</th>\n",
       "      <td>14</td>\n",
       "      <td>7</td>\n",
       "      <td>8</td>\n",
       "    </tr>\n",
       "    <tr>\n",
       "      <th>14</th>\n",
       "      <td>15</td>\n",
       "      <td>9</td>\n",
       "      <td>4</td>\n",
       "    </tr>\n",
       "    <tr>\n",
       "      <th>15</th>\n",
       "      <td>16</td>\n",
       "      <td>4</td>\n",
       "      <td>9</td>\n",
       "    </tr>\n",
       "    <tr>\n",
       "      <th>16</th>\n",
       "      <td>17</td>\n",
       "      <td>4</td>\n",
       "      <td>8</td>\n",
       "    </tr>\n",
       "    <tr>\n",
       "      <th>17</th>\n",
       "      <td>18</td>\n",
       "      <td>0</td>\n",
       "      <td>3</td>\n",
       "    </tr>\n",
       "    <tr>\n",
       "      <th>18</th>\n",
       "      <td>19</td>\n",
       "      <td>0</td>\n",
       "      <td>9</td>\n",
       "    </tr>\n",
       "    <tr>\n",
       "      <th>19</th>\n",
       "      <td>20</td>\n",
       "      <td>3</td>\n",
       "      <td>3</td>\n",
       "    </tr>\n",
       "    <tr>\n",
       "      <th>20</th>\n",
       "      <td>21</td>\n",
       "      <td>7</td>\n",
       "      <td>2</td>\n",
       "    </tr>\n",
       "    <tr>\n",
       "      <th>21</th>\n",
       "      <td>22</td>\n",
       "      <td>0</td>\n",
       "      <td>9</td>\n",
       "    </tr>\n",
       "    <tr>\n",
       "      <th>22</th>\n",
       "      <td>23</td>\n",
       "      <td>0</td>\n",
       "      <td>9</td>\n",
       "    </tr>\n",
       "    <tr>\n",
       "      <th>23</th>\n",
       "      <td>24</td>\n",
       "      <td>6</td>\n",
       "      <td>0</td>\n",
       "    </tr>\n",
       "    <tr>\n",
       "      <th>24</th>\n",
       "      <td>25</td>\n",
       "      <td>7</td>\n",
       "      <td>0</td>\n",
       "    </tr>\n",
       "    <tr>\n",
       "      <th>25</th>\n",
       "      <td>26</td>\n",
       "      <td>4</td>\n",
       "      <td>9</td>\n",
       "    </tr>\n",
       "    <tr>\n",
       "      <th>26</th>\n",
       "      <td>27</td>\n",
       "      <td>6</td>\n",
       "      <td>8</td>\n",
       "    </tr>\n",
       "    <tr>\n",
       "      <th>27</th>\n",
       "      <td>28</td>\n",
       "      <td>7</td>\n",
       "      <td>0</td>\n",
       "    </tr>\n",
       "    <tr>\n",
       "      <th>28</th>\n",
       "      <td>29</td>\n",
       "      <td>0</td>\n",
       "      <td>7</td>\n",
       "    </tr>\n",
       "    <tr>\n",
       "      <th>29</th>\n",
       "      <td>30</td>\n",
       "      <td>2</td>\n",
       "      <td>0</td>\n",
       "    </tr>\n",
       "    <tr>\n",
       "      <th>...</th>\n",
       "      <td>...</td>\n",
       "      <td>...</td>\n",
       "      <td>...</td>\n",
       "    </tr>\n",
       "    <tr>\n",
       "      <th>2881</th>\n",
       "      <td>2882</td>\n",
       "      <td>5</td>\n",
       "      <td>3</td>\n",
       "    </tr>\n",
       "    <tr>\n",
       "      <th>2882</th>\n",
       "      <td>2883</td>\n",
       "      <td>2</td>\n",
       "      <td>9</td>\n",
       "    </tr>\n",
       "    <tr>\n",
       "      <th>2883</th>\n",
       "      <td>2884</td>\n",
       "      <td>3</td>\n",
       "      <td>3</td>\n",
       "    </tr>\n",
       "    <tr>\n",
       "      <th>2884</th>\n",
       "      <td>2885</td>\n",
       "      <td>9</td>\n",
       "      <td>2</td>\n",
       "    </tr>\n",
       "    <tr>\n",
       "      <th>2885</th>\n",
       "      <td>2886</td>\n",
       "      <td>2</td>\n",
       "      <td>9</td>\n",
       "    </tr>\n",
       "    <tr>\n",
       "      <th>2886</th>\n",
       "      <td>2887</td>\n",
       "      <td>7</td>\n",
       "      <td>0</td>\n",
       "    </tr>\n",
       "    <tr>\n",
       "      <th>2887</th>\n",
       "      <td>2888</td>\n",
       "      <td>2</td>\n",
       "      <td>7</td>\n",
       "    </tr>\n",
       "    <tr>\n",
       "      <th>2888</th>\n",
       "      <td>2889</td>\n",
       "      <td>7</td>\n",
       "      <td>0</td>\n",
       "    </tr>\n",
       "    <tr>\n",
       "      <th>2889</th>\n",
       "      <td>2890</td>\n",
       "      <td>5</td>\n",
       "      <td>5</td>\n",
       "    </tr>\n",
       "    <tr>\n",
       "      <th>2890</th>\n",
       "      <td>2891</td>\n",
       "      <td>0</td>\n",
       "      <td>9</td>\n",
       "    </tr>\n",
       "    <tr>\n",
       "      <th>2891</th>\n",
       "      <td>2892</td>\n",
       "      <td>0</td>\n",
       "      <td>9</td>\n",
       "    </tr>\n",
       "    <tr>\n",
       "      <th>2892</th>\n",
       "      <td>2893</td>\n",
       "      <td>0</td>\n",
       "      <td>9</td>\n",
       "    </tr>\n",
       "    <tr>\n",
       "      <th>2893</th>\n",
       "      <td>2894</td>\n",
       "      <td>5</td>\n",
       "      <td>9</td>\n",
       "    </tr>\n",
       "    <tr>\n",
       "      <th>2894</th>\n",
       "      <td>2895</td>\n",
       "      <td>0</td>\n",
       "      <td>0</td>\n",
       "    </tr>\n",
       "    <tr>\n",
       "      <th>2895</th>\n",
       "      <td>2896</td>\n",
       "      <td>7</td>\n",
       "      <td>0</td>\n",
       "    </tr>\n",
       "    <tr>\n",
       "      <th>2896</th>\n",
       "      <td>2897</td>\n",
       "      <td>2</td>\n",
       "      <td>3</td>\n",
       "    </tr>\n",
       "    <tr>\n",
       "      <th>2897</th>\n",
       "      <td>2898</td>\n",
       "      <td>0</td>\n",
       "      <td>9</td>\n",
       "    </tr>\n",
       "    <tr>\n",
       "      <th>2898</th>\n",
       "      <td>2899</td>\n",
       "      <td>2</td>\n",
       "      <td>3</td>\n",
       "    </tr>\n",
       "    <tr>\n",
       "      <th>2899</th>\n",
       "      <td>2900</td>\n",
       "      <td>3</td>\n",
       "      <td>3</td>\n",
       "    </tr>\n",
       "    <tr>\n",
       "      <th>2900</th>\n",
       "      <td>2901</td>\n",
       "      <td>2</td>\n",
       "      <td>3</td>\n",
       "    </tr>\n",
       "    <tr>\n",
       "      <th>2901</th>\n",
       "      <td>2902</td>\n",
       "      <td>7</td>\n",
       "      <td>0</td>\n",
       "    </tr>\n",
       "    <tr>\n",
       "      <th>2902</th>\n",
       "      <td>2903</td>\n",
       "      <td>7</td>\n",
       "      <td>0</td>\n",
       "    </tr>\n",
       "    <tr>\n",
       "      <th>2903</th>\n",
       "      <td>2904</td>\n",
       "      <td>0</td>\n",
       "      <td>3</td>\n",
       "    </tr>\n",
       "    <tr>\n",
       "      <th>2904</th>\n",
       "      <td>2905</td>\n",
       "      <td>0</td>\n",
       "      <td>3</td>\n",
       "    </tr>\n",
       "    <tr>\n",
       "      <th>2905</th>\n",
       "      <td>2906</td>\n",
       "      <td>6</td>\n",
       "      <td>0</td>\n",
       "    </tr>\n",
       "    <tr>\n",
       "      <th>2906</th>\n",
       "      <td>2907</td>\n",
       "      <td>6</td>\n",
       "      <td>0</td>\n",
       "    </tr>\n",
       "    <tr>\n",
       "      <th>2907</th>\n",
       "      <td>2908</td>\n",
       "      <td>6</td>\n",
       "      <td>0</td>\n",
       "    </tr>\n",
       "    <tr>\n",
       "      <th>2908</th>\n",
       "      <td>2909</td>\n",
       "      <td>6</td>\n",
       "      <td>0</td>\n",
       "    </tr>\n",
       "    <tr>\n",
       "      <th>2909</th>\n",
       "      <td>2910</td>\n",
       "      <td>6</td>\n",
       "      <td>0</td>\n",
       "    </tr>\n",
       "    <tr>\n",
       "      <th>2910</th>\n",
       "      <td>2911</td>\n",
       "      <td>9</td>\n",
       "      <td>8</td>\n",
       "    </tr>\n",
       "  </tbody>\n",
       "</table>\n",
       "<p>2911 rows × 3 columns</p>\n",
       "</div>"
      ],
      "text/plain": [
       "        Id  x  y\n",
       "0        1  3  3\n",
       "1        2  5  9\n",
       "2        3  9  8\n",
       "3        4  2  3\n",
       "4        5  2  0\n",
       "5        6  2  7\n",
       "6        7  0  9\n",
       "7        8  0  9\n",
       "8        9  2  5\n",
       "9       10  6  0\n",
       "10      11  2  4\n",
       "11      12  0  5\n",
       "12      13  3  3\n",
       "13      14  7  8\n",
       "14      15  9  4\n",
       "15      16  4  9\n",
       "16      17  4  8\n",
       "17      18  0  3\n",
       "18      19  0  9\n",
       "19      20  3  3\n",
       "20      21  7  2\n",
       "21      22  0  9\n",
       "22      23  0  9\n",
       "23      24  6  0\n",
       "24      25  7  0\n",
       "25      26  4  9\n",
       "26      27  6  8\n",
       "27      28  7  0\n",
       "28      29  0  7\n",
       "29      30  2  0\n",
       "...    ... .. ..\n",
       "2881  2882  5  3\n",
       "2882  2883  2  9\n",
       "2883  2884  3  3\n",
       "2884  2885  9  2\n",
       "2885  2886  2  9\n",
       "2886  2887  7  0\n",
       "2887  2888  2  7\n",
       "2888  2889  7  0\n",
       "2889  2890  5  5\n",
       "2890  2891  0  9\n",
       "2891  2892  0  9\n",
       "2892  2893  0  9\n",
       "2893  2894  5  9\n",
       "2894  2895  0  0\n",
       "2895  2896  7  0\n",
       "2896  2897  2  3\n",
       "2897  2898  0  9\n",
       "2898  2899  2  3\n",
       "2899  2900  3  3\n",
       "2900  2901  2  3\n",
       "2901  2902  7  0\n",
       "2902  2903  7  0\n",
       "2903  2904  0  3\n",
       "2904  2905  0  3\n",
       "2905  2906  6  0\n",
       "2906  2907  6  0\n",
       "2907  2908  6  0\n",
       "2908  2909  6  0\n",
       "2909  2910  6  0\n",
       "2910  2911  9  8\n",
       "\n",
       "[2911 rows x 3 columns]"
      ]
     },
     "execution_count": 435,
     "metadata": {},
     "output_type": "execute_result"
    }
   ],
   "source": [
    "pd.DataFrame(aaa)"
   ]
  }
 ],
 "metadata": {
  "kernelspec": {
   "display_name": "Python 3",
   "language": "python",
   "name": "python3"
  },
  "language_info": {
   "codemirror_mode": {
    "name": "ipython",
    "version": 3
   },
   "file_extension": ".py",
   "mimetype": "text/x-python",
   "name": "python",
   "nbconvert_exporter": "python",
   "pygments_lexer": "ipython3",
   "version": "3.7.3"
  }
 },
 "nbformat": 4,
 "nbformat_minor": 2
}
